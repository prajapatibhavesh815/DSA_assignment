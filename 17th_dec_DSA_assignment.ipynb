{
 "cells": [
  {
   "cell_type": "markdown",
   "metadata": {},
   "source": [
    "Problem 1: Reverse a singly linked list.\n",
    "input : 1->2->3->4->5\n",
    "output : 5->4->3->2->1"
   ]
  },
  {
   "cell_type": "code",
   "execution_count": 120,
   "metadata": {},
   "outputs": [
    {
     "name": "stdout",
     "output_type": "stream",
     "text": [
      "Original Linked List:\n",
      "1->2->3->4->5->\n",
      "Reversed Linked List:\n",
      "5->4->3->2->1->"
     ]
    }
   ],
   "source": [
    "class Node:\n",
    "    def __init__(self, data=None, next=None):\n",
    "        self.data = data\n",
    "        self.next = next\n",
    "\n",
    "    def setData(self, data):\n",
    "        self.data = data\n",
    "\n",
    "    def getData(self):\n",
    "        return self.data\n",
    "\n",
    "    def setNext(self, next):\n",
    "        self.next = next\n",
    "\n",
    "    def getNext(self):\n",
    "        return self.next\n",
    "\n",
    "def reverse_linked_list(head):\n",
    "    prev = None\n",
    "    current = head\n",
    "\n",
    "    while current is not None:\n",
    "        next_node = current.next\n",
    "        current.next = prev\n",
    "        prev = current\n",
    "        current = next_node\n",
    "\n",
    "    return prev\n",
    "\n",
    "def traverse(head):\n",
    "    temp = head\n",
    "    while temp:\n",
    "        print(temp.getData(), end=\"->\")\n",
    "        temp = temp.getNext()\n",
    "\n",
    "# Creating the linked list\n",
    "head = Node(1)\n",
    "node2 = Node(2)\n",
    "node3 = Node(3)\n",
    "node4 = Node(4)\n",
    "node5 = Node(5)\n",
    "\n",
    "# Creating the linkage\n",
    "head.setNext(node2)\n",
    "node2.setNext(node3)\n",
    "node3.setNext(node4)\n",
    "node4.setNext(node5)\n",
    "\n",
    "print(\"Original Linked List:\")\n",
    "traverse(head)\n",
    "\n",
    "# Reversing the linked list\n",
    "head = reverse_linked_list(head)\n",
    "\n",
    "print(\"\\nReversed Linked List:\")\n",
    "traverse(head)\n"
   ]
  },
  {
   "cell_type": "markdown",
   "metadata": {},
   "source": [
    "Problem 2: Merge two sorted linked lists into one sorted linked list.\n",
    "input: List1: 1->3->5, list2: 2->4->6\n",
    "output: 1->2->3->4->5->6"
   ]
  },
  {
   "cell_type": "code",
   "execution_count": 121,
   "metadata": {},
   "outputs": [
    {
     "name": "stdout",
     "output_type": "stream",
     "text": [
      "List 1:\n",
      "1->3->5->\n",
      "List 2:\n",
      "2->4->6->\n",
      "Merged Sorted List:\n",
      "1->2->3->4->5->6->"
     ]
    }
   ],
   "source": [
    "class Node:\n",
    "    def __init__(self, data=None, next=None):\n",
    "        self.data = data\n",
    "        self.next = next\n",
    "\n",
    "def merge_sorted_lists(list1, list2):\n",
    "    # Create a dummy node to serve as the head of the merged list\n",
    "    merged_head = Node()\n",
    "    current = merged_head\n",
    "\n",
    "    # Traverse both lists until one of them is exhausted\n",
    "    while list1 is not None and list2 is not None:\n",
    "        if list1.data < list2.data:\n",
    "            current.next = list1\n",
    "            list1 = list1.next\n",
    "        else:\n",
    "            current.next = list2\n",
    "            list2 = list2.next\n",
    "\n",
    "        current = current.next\n",
    "\n",
    "    # If one list is longer than the other, append the remaining nodes\n",
    "    if list1 is not None:\n",
    "        current.next = list1\n",
    "    elif list2 is not None:\n",
    "        current.next = list2\n",
    "\n",
    "    return merged_head.next\n",
    "\n",
    "def traverse(head):\n",
    "    temp = head\n",
    "    while temp:\n",
    "        print(temp.data, end=\"->\")\n",
    "        temp = temp.next\n",
    "\n",
    "# Creating the linked lists\n",
    "list1 = Node(1, Node(3, Node(5)))\n",
    "list2 = Node(2, Node(4, Node(6)))\n",
    "\n",
    "print(\"List 1:\")\n",
    "traverse(list1)\n",
    "\n",
    "print(\"\\nList 2:\")\n",
    "traverse(list2)\n",
    "\n",
    "# Merging the sorted lists\n",
    "merged_list = merge_sorted_lists(list1, list2)\n",
    "\n",
    "print(\"\\nMerged Sorted List:\")\n",
    "traverse(merged_list)\n"
   ]
  },
  {
   "cell_type": "markdown",
   "metadata": {},
   "source": [
    "Problem 3: Remove the nth node from the end of a linked list.\n",
    "input: 1->2->3->4->5, n=2\n",
    "output: 1->2->3->5"
   ]
  },
  {
   "cell_type": "code",
   "execution_count": 122,
   "metadata": {},
   "outputs": [
    {
     "name": "stdout",
     "output_type": "stream",
     "text": [
      "original linked list:\n",
      "1->2->3->4->5->\n",
      "linked list after removing the 2th node from the end:\n",
      "1->2->3->5->"
     ]
    }
   ],
   "source": [
    "class Node:\n",
    "    def __init__(self, data = None, next = None):\n",
    "        self.data = data\n",
    "        self.next = next\n",
    "\n",
    "def remove_nth_from_end(head,n):\n",
    "    #Create a dummy node to simplify edge cases\n",
    "    dummy = Node(0)\n",
    "    dummy.next = head\n",
    "    slow = fast =dummy\n",
    "\n",
    "    #move the first pointer n+1 steps ahead\n",
    "    for _ in range(n+1):\n",
    "        fast = fast.next\n",
    "\n",
    "    #Move both pointer until the fast pointer reaches the end\n",
    "    while fast is not None:\n",
    "        slow = slow.next\n",
    "        fast =fast.next\n",
    "\n",
    "    # Remove the nth node from the end\n",
    "    slow.next = slow.next.next\n",
    "\n",
    "    return dummy.next\n",
    "\n",
    "def traverse(head):\n",
    "    temp = head\n",
    "    while temp:\n",
    "        print(temp.data,end=\"->\")\n",
    "        temp = temp.next\n",
    "\n",
    "# Creating the linked list\n",
    "head = Node(1,Node(2,Node(3,Node(4,Node(5)))))\n",
    "\n",
    "print(\"original linked list:\")\n",
    "traverse(head)\n",
    "\n",
    "# Remove the 2nd node from the end\n",
    "n=2\n",
    "\n",
    "head = remove_nth_from_end(head,n)\n",
    "print(f\"\\nlinked list after removing the {n}th node from the end:\")\n",
    "traverse(head)\n",
    "\n",
    "\n",
    "                    \n",
    "\n",
    "    "
   ]
  },
  {
   "cell_type": "markdown",
   "metadata": {},
   "source": [
    "Problem 4: Find the intersection point of two linked lists.\n",
    "input: list1: 1->2->3->4, list2: 9->8->3->4\n",
    "output: Node with value 3"
   ]
  },
  {
   "cell_type": "code",
   "execution_count": 52,
   "metadata": {},
   "outputs": [
    {
     "name": "stdout",
     "output_type": "stream",
     "text": [
      "List 1:\n",
      "1->2->3->4->\n",
      "List 2:\n",
      "9->8->3->4->\n",
      "Intersection Point Value: 3\n"
     ]
    }
   ],
   "source": [
    "class Node:\n",
    "    def __init__(self, data=None, next=None):\n",
    "        self.data = data\n",
    "        self.next = next\n",
    "\n",
    "def get_intersection_node(head1, head2):\n",
    "    # Function to get the length of a linked list\n",
    "    def get_length(node):\n",
    "        length = 0\n",
    "        while node is not None:\n",
    "            length += 1\n",
    "            node = node.next\n",
    "        return length\n",
    "\n",
    "    # Get the lengths of both linked lists\n",
    "    length1 = get_length(head1)\n",
    "    length2 = get_length(head2)\n",
    "\n",
    "    # Reset the pointers to the heads of the linked lists\n",
    "    current1 = head1\n",
    "    current2 = head2\n",
    "    # Move the longer list's pointer ahead by the difference in lengths\n",
    "    for _ in range(abs(length1 - length2)):\n",
    "        if length1 > length2:\n",
    "            current1 = current1.next\n",
    "        else:\n",
    "            current2 = current2.next\n",
    "\n",
    "    # Move both pointers until an intersection point is found\n",
    "    while current1 is not None and current2 is not None:\n",
    "        if current1 == current2:\n",
    "            return current1\n",
    "        current1 = current1.next\n",
    "        current2 = current2.next\n",
    "\n",
    "    return None\n",
    "\n",
    "def traverse(head):\n",
    "    temp = head\n",
    "    while temp:\n",
    "        print(temp.data, end=\"->\")\n",
    "        temp = temp.next\n",
    "    \n",
    "\n",
    "# Creating the linked lists\n",
    "list1 = Node(1, Node(2, Node(3, Node(4))))\n",
    "list2 = Node(9, Node(8, list1.next.next))  # Creating an intersection point\n",
    "\n",
    "print(\"List 1:\")\n",
    "traverse(list1)\n",
    "\n",
    "print(\"\\nList 2:\")\n",
    "traverse(list2)\n",
    "\n",
    "# Find the intersection point\n",
    "intersection_node = get_intersection_node(list1, list2)\n",
    "\n",
    "if intersection_node:\n",
    "    print(f\"\\nIntersection Point Value: {intersection_node.data}\")\n",
    "else:\n",
    "    print(\"\\nNo Intersection Point Found.\")\n"
   ]
  },
  {
   "cell_type": "markdown",
   "metadata": {},
   "source": [
    "Problem 5: Remove duplicates from a sorted linked list.\n",
    "input: 1->1->2->3->3\n",
    "output: 1->2->3"
   ]
  },
  {
   "cell_type": "code",
   "execution_count": 124,
   "metadata": {},
   "outputs": [
    {
     "name": "stdout",
     "output_type": "stream",
     "text": [
      "1->1->2->3->3->\n",
      "output\n",
      "1->2->3->"
     ]
    }
   ],
   "source": [
    "class Node:\n",
    "    def __init__(self,data=None,next=None):\n",
    "        self.data = data\n",
    "        self.next = next\n",
    "\n",
    "def remove_duplicate(head):\n",
    "    current = head\n",
    "\n",
    "    while current and current.next:\n",
    "        if current.data == current.next.data:\n",
    "            current.next = current.next.next\n",
    "        else:\n",
    "            current = current.next\n",
    "\n",
    "    return head\n",
    "\n",
    "def print_linked_list(head):\n",
    "    current = head\n",
    "    while current:\n",
    "        print(current.data, end=\"->\" )\n",
    "        current = current.next\n",
    "    \n",
    "\n",
    "# Create a sorted linked list: 1->1->2->3->3  \n",
    "head = Node(1,Node(1,Node(2,Node(3,Node(3)))))  \n",
    "\n",
    "print_linked_list(head)\n",
    "\n",
    "result = remove_duplicate(head)\n",
    "\n",
    "print(\"\\noutput\")\n",
    "print_linked_list(result)"
   ]
  },
  {
   "cell_type": "markdown",
   "metadata": {},
   "source": [
    "Problem 6: Add two numbers represented by linked lists (where each node contains a single digit).\n",
    "  input:list1: 2->4->3 , list2: 5->6->4(represents 342+465)\n",
    "  output: 7->0->8(represents 807)"
   ]
  },
  {
   "cell_type": "code",
   "execution_count": 125,
   "metadata": {},
   "outputs": [
    {
     "name": "stdout",
     "output_type": "stream",
     "text": [
      "list1:\n",
      "3->4->2->\n",
      "list2:\n",
      "4->6->5->\n",
      "Output:\n",
      "8->0->7->"
     ]
    }
   ],
   "source": [
    "class Node:\n",
    "    def __init__(self,data=None,next=None):\n",
    "        self.data = data\n",
    "        self.next = next\n",
    "\n",
    "class LinkedList:\n",
    "    def __init__(self):\n",
    "        self.head = None\n",
    "    \n",
    "    def push(self, new_data):\n",
    "        new_node = Node(new_data)\n",
    "        new_node.next = self.head\n",
    "        self.head = new_node        \n",
    "\n",
    "def add_two_numbers(list1,list2):\n",
    "    result_list = LinkedList()\n",
    "    temp = result_list.head\n",
    "    carry = 0\n",
    "\n",
    "    while list1 or list2 or carry:\n",
    "        # Extract digits from the current nodes, or use 0 if the node is None\n",
    "        digit1 = list1.data if list1 else 0\n",
    "        digit2 = list2.data if list2 else 0\n",
    "\n",
    "\n",
    "        # calculate the sum and carry for the current digits\n",
    "        total = digit1 + digit2 + carry\n",
    "        carry, result_digit = divmod(total, 10)\n",
    "\n",
    "        # Create a new node with the result digit and push it to the result list\n",
    "        result_list.push(result_digit)\n",
    "\n",
    "\n",
    "        # Move to the next nodes in both lists if available\n",
    "        if list1:\n",
    "            list1 = list1.next\n",
    "        if list2:\n",
    "            list2 = list2.next\n",
    "\n",
    "    return result_list.head\n",
    "\n",
    "def traverse(head):\n",
    "    temp = head\n",
    "    while temp:\n",
    "        print(temp.data, end=\"->\")\n",
    "        temp = temp.next\n",
    "\n",
    "#example usage:\n",
    "# Create linked lists: 2->4->3 and 5->6->4 \n",
    "\n",
    "list1 = LinkedList()\n",
    "list1.push(2)\n",
    "list1.push(4)\n",
    "list1.push(3)\n",
    "\n",
    "list2 = LinkedList()\n",
    "list2.push(5)\n",
    "list2.push(6)\n",
    "list2.push(4)\n",
    "\n",
    "print(\"list1:\")\n",
    "traverse(list1.head)\n",
    "print(\"\\nlist2:\")\n",
    "traverse(list2.head)\n",
    "\n",
    "result_head= add_two_numbers(list1.head, list2.head)\n",
    "\n",
    "print(\"\\nOutput:\")\n",
    "traverse(result_head)\n",
    "\n",
    "                     "
   ]
  },
  {
   "cell_type": "markdown",
   "metadata": {},
   "source": [
    "Problem 7: Swap nodes in pairs in a linked list.\n",
    "input: 1->2->3->4\n",
    "output: 2->1->4->3"
   ]
  },
  {
   "cell_type": "code",
   "execution_count": 126,
   "metadata": {},
   "outputs": [
    {
     "name": "stdout",
     "output_type": "stream",
     "text": [
      "Input:\n",
      "1->2->3->4->\n",
      "Output:\n",
      "2->1->4->3->"
     ]
    }
   ],
   "source": [
    "class Node:\n",
    "    def __init__(self, data = None, next= None):\n",
    "        self.data = data\n",
    "        self.next = next\n",
    "\n",
    "def swap_pairs(head):\n",
    "    dummy = Node()\n",
    "    dummy.next = head\n",
    "    temp = dummy\n",
    "\n",
    "    while temp.next and temp.next.next:\n",
    "        # Nodes to be swapped\n",
    "        first_node = temp.next\n",
    "        second_node = temp.next.next\n",
    "\n",
    "        # swap nodes\n",
    "        first_node.next = second_node.next\n",
    "        second_node.next = first_node\n",
    "        temp.next = second_node\n",
    "\n",
    "        # Move to the next pair\n",
    "\n",
    "        temp = temp.next.next\n",
    "\n",
    "    return dummy.next\n",
    "\n",
    "def traverse(head):\n",
    "    temp = head\n",
    "    while temp:\n",
    "        print(temp.data , end=\"->\")\n",
    "        temp = temp.next\n",
    "\n",
    "# Example usage:\n",
    "# Create a linked list: 1->2->3->4\n",
    "head = Node(1,Node(2,Node(3,Node(4))))  \n",
    "\n",
    "print(\"Input:\")\n",
    "traverse(head)\n",
    "\n",
    "result = swap_pairs(head)\n",
    "\n",
    "print(\"\\nOutput:\")\n",
    "traverse(result)\n"
   ]
  },
  {
   "cell_type": "markdown",
   "metadata": {},
   "source": [
    "Problem 8: Reverse nodes in a linked list in groups of k.\n",
    "input: 1->2->3->4->5, k = 3\n",
    "output : 3->2->1->4->5"
   ]
  },
  {
   "cell_type": "code",
   "execution_count": null,
   "metadata": {},
   "outputs": [],
   "source": []
  },
  {
   "cell_type": "markdown",
   "metadata": {},
   "source": [
    "Problem 9: Determine if a linked list is a palindrome.\n",
    "input: 1->2->2->1\n",
    "output: True"
   ]
  },
  {
   "cell_type": "code",
   "execution_count": null,
   "metadata": {},
   "outputs": [
    {
     "name": "stdout",
     "output_type": "stream",
     "text": [
      "linked list:\n",
      "1->2->2->1->\n",
      "Is the linked list a palindrome? True\n"
     ]
    }
   ],
   "source": [
    "class Node:\n",
    "    def __init__(self,data= None ,next=None):\n",
    "        self.data = data\n",
    "        self.next = next\n",
    "\n",
    "def is_palindrome(head):\n",
    "    # Function to reverse a linked list\n",
    "    def reverse_linked_list(node):\n",
    "        prev = None\n",
    "        current = node\n",
    "\n",
    "        while current is not None:\n",
    "            next_node = current.next\n",
    "            current.next = prev\n",
    "            prev = current\n",
    "            current = next_node\n",
    "        return prev\n",
    "\n",
    "    # Use two pointers to find the moddle of the linked list\n",
    "    slow = fast = head\n",
    "    stack = []\n",
    "\n",
    "    while fast is not None and fast.next is not None:\n",
    "        stack.append(slow.data)\n",
    "        slow = slow.next\n",
    "        fast = fast.next.next\n",
    "\n",
    "    # If the linked list has an odd number of elements, skip the middle element\n",
    "    if fast is not None:\n",
    "        slow = slow.next\n",
    "    # Compare the second half of the linked list with the elements in the stack\n",
    "\n",
    "    while slow is not None:\n",
    "        if slow.data != stack.pop():\n",
    "            return False\n",
    "        slow = slow.next\n",
    "    return True\n",
    "\n",
    "def traverse(head):\n",
    "    temp = head\n",
    "    while temp:\n",
    "        print(temp.data, end=\"->\")\n",
    "        temp = temp.next\n",
    "\n",
    "head = Node(1,Node(2,Node(2,Node(1))))\n",
    "\n",
    "print(\"linked list:\")\n",
    "traverse(head)\n",
    "\n",
    "# Check if the linked list is a palindrome\n",
    "result = is_palindrome(head)\n",
    "print(\"\\nIs the linked list a palindrome?\",result)\n",
    "\n"
   ]
  },
  {
   "cell_type": "markdown",
   "metadata": {},
   "source": [
    "Problem 10: Rotate a linked list to the right by k places.\n",
    "input: 1->2->3->4->5 , k=2\n",
    "output: 4->5->1->2->3"
   ]
  },
  {
   "cell_type": "code",
   "execution_count": null,
   "metadata": {},
   "outputs": [
    {
     "name": "stdout",
     "output_type": "stream",
     "text": [
      "Original linked list:\n",
      "1->2->3->4->5->\n",
      "Rotated linked list by2 places:\n",
      "4->5->1->2->3->"
     ]
    }
   ],
   "source": [
    "class Node:\n",
    "    def __init__(self,data= None,next=None):\n",
    "        self.data = data\n",
    "        self.next = next\n",
    "\n",
    "def rotate_right(head,k):\n",
    "    if not head or k==0:\n",
    "        return head\n",
    "    \n",
    "    # Find the length of the linked list\n",
    "    length = 1\n",
    "    tail = head\n",
    "\n",
    "    while tail.next:\n",
    "        length += 1\n",
    "        tail = tail.next\n",
    "\n",
    "    # Calculate the effective rotation value\n",
    "    k = k%length\n",
    "\n",
    "    # If k is 0, no rotation is needed\n",
    "    if k==0:\n",
    "        return head\n",
    "\n",
    "    # Find the node to break the linked list\n",
    "    new_tail = head\n",
    "    for _ in range(length-k-1):\n",
    "        new_tail = new_tail.next\n",
    "    # Break the linked list\n",
    "    new_head = new_tail.next\n",
    "    new_tail.next=None             \n",
    "\n",
    "    #Connect the broken parts\n",
    "    tail.next = head\n",
    "    return new_head\n",
    "\n",
    "def traverse(head):\n",
    "    temp = head\n",
    "    while temp:\n",
    "        print(temp.data , end=\"->\")\n",
    "        temp = temp.next\n",
    "\n",
    "#Creating the linked list\n",
    "\n",
    "head = Node(1,Node(2,Node(3,Node(4,Node(5)))))\n",
    "\n",
    "print(\"Original linked list:\")\n",
    "traverse(head)\n",
    "\n",
    "# Rotate the linked list to the right by k places\n",
    "k=2\n",
    "rotated_head = rotate_right(head,k)\n",
    "print(f\"\\nRotated linked list by{k} places:\")\n",
    "traverse(rotated_head)"
   ]
  },
  {
   "cell_type": "markdown",
   "metadata": {},
   "source": [
    "Problem 11: Flatten a multilevel doubly linked list.\n",
    "input: 1<->2<->3<->7<->8<->11->12,4<->5->9<->10,6->13\n",
    "output: 1<->2<->3<->4<->5<->6<->7<->8<->9<->10<->11<->12<->13"
   ]
  },
  {
   "cell_type": "code",
   "execution_count": 78,
   "metadata": {},
   "outputs": [
    {
     "name": "stdout",
     "output_type": "stream",
     "text": [
      "Flattened Linked List:\n",
      "1<->2<->3<->4<->5<->6<->7<->8<->9<->10<->11<->12<->13None\n"
     ]
    }
   ],
   "source": [
    "class Node:\n",
    "    def __init__(self, value=None, prev=None, next=None, child=None):\n",
    "        self.value = value\n",
    "        self.prev = prev\n",
    "        self.next = next\n",
    "        self.child = child\n",
    "\n",
    "def flatten_linked_list(head):\n",
    "    if not head:\n",
    "        return None\n",
    "\n",
    "    dummy = Node()\n",
    "    current, stack = dummy, [head]\n",
    "\n",
    "    while stack:\n",
    "        node = stack.pop()\n",
    "\n",
    "        if node.next:\n",
    "            stack.append(node.next)\n",
    "\n",
    "        if node.child:\n",
    "            stack.append(node.child)\n",
    "            node.child = None  # Remove the child link\n",
    "\n",
    "        current.next = node\n",
    "        node.prev = current\n",
    "        current = node\n",
    "\n",
    "    dummy.next.prev = None  # Set the prev of the first node to None\n",
    "    return dummy.next\n",
    "\n",
    "def print_linked_list(head):\n",
    "    temp = head\n",
    "    while temp:\n",
    "        print(temp.value, end=\"<->\" if temp.next else \"\")\n",
    "        temp = temp.next\n",
    "    print(\"None\")\n",
    "\n",
    "# Example usage:\n",
    "# Constructing the multilevel doubly linked list\n",
    "head = Node(1)\n",
    "head.next = Node(2)\n",
    "head.next.prev = head\n",
    "head.next.next = Node(6)\n",
    "head.next.next.prev = head.next\n",
    "head.next.next.next = Node(7)\n",
    "head.next.next.next.prev = head.next.next\n",
    "head.next.next.next.next = Node(10)\n",
    "head.next.next.next.next.prev = head.next.next.next\n",
    "head.next.next.next.next.next = Node(12)\n",
    "head.next.next.next.next.next.prev = head.next.next.next.next\n",
    "head.next.next.next.next.next.next = Node(13)\n",
    "head.next.next.next.next.next.next.prev = head.next.next.next.next.next\n",
    "\n",
    "head.next.child = Node(3)\n",
    "head.next.child.next = Node(4)\n",
    "head.next.child.next.prev = head.next.child\n",
    "head.next.child.next.next = Node(5)\n",
    "head.next.child.next.next.prev = head.next.child.next\n",
    "\n",
    "head.next.next.next.child = Node(8)\n",
    "head.next.next.next.child.next = Node(9)\n",
    "head.next.next.next.next.child = Node(11)\n",
    "head.next.next.next.child.next.prev = head.next.next.next.child\n",
    "\n",
    "# Flatten the multilevel doubly linked list\n",
    "flattened_head = flatten_linked_list(head)\n",
    "\n",
    "# Print the flattened linked list\n",
    "print(\"Flattened Linked List:\")\n",
    "print_linked_list(flattened_head)\n"
   ]
  },
  {
   "cell_type": "markdown",
   "metadata": {},
   "source": [
    "Problem 12: Rearrange a linked list such that all even positioned nodes are placed at the end.\n",
    "input: 1->2->3->4->5\n",
    "output:1->3->5->2->4 "
   ]
  },
  {
   "cell_type": "code",
   "execution_count": 1,
   "metadata": {},
   "outputs": [
    {
     "name": "stdout",
     "output_type": "stream",
     "text": [
      "Original linked list:\n",
      "1->2->3->4->5->\n",
      "Rearranged linked list:\n",
      "1->3->5->2->4->"
     ]
    }
   ],
   "source": [
    "class Node:\n",
    "    def __init__(self, data=None , next= None):\n",
    "        self.data = data\n",
    "        self.next = next\n",
    "\n",
    "def rearrange_linked_list(head):\n",
    "    if not head or not head.next or not head.next.next:\n",
    "        return head\n",
    "\n",
    "    odd_head = odd_tail = Node()\n",
    "    even_head = even_tail = Node()\n",
    "\n",
    "    current = head\n",
    "    is_odd = True\n",
    "\n",
    "    while current:\n",
    "        if is_odd:\n",
    "            odd_tail.next= current\n",
    "            odd_tail = odd_tail.next\n",
    "        else:\n",
    "            even_tail.next = current\n",
    "            even_tail = even_tail.next\n",
    "\n",
    "        current = current.next\n",
    "        is_odd = not is_odd\n",
    "\n",
    "    # Connect the last odd node to the first even node\n",
    "    odd_tail.next = even_head.next\n",
    "    even_tail.next = None\n",
    "\n",
    "    return odd_head.next\n",
    "\n",
    "def traverse(head):\n",
    "    temp = head\n",
    "    while temp:\n",
    "        print(temp.data, end=\"->\")\n",
    "        temp = temp.next\n",
    "#Creating the linked list\n",
    "head = Node(1,Node(2,Node(3,Node(4,Node(5)))))\n",
    "\n",
    "print(\"Original linked list:\")\n",
    "traverse(head)\n",
    "\n",
    "#Rearrange the linked list\n",
    "new_head = rearrange_linked_list(head)\n",
    "print(\"\\nRearranged linked list:\")\n",
    "traverse(new_head)"
   ]
  },
  {
   "cell_type": "markdown",
   "metadata": {},
   "source": [
    "Problem 13: Given a non-negative number represented as a linked list, add one to it.\n",
    "input: 1->2->3(represents the number 123)\n",
    "output:1->2->4(represents the number 124)"
   ]
  },
  {
   "cell_type": "code",
   "execution_count": 1,
   "metadata": {},
   "outputs": [
    {
     "name": "stdout",
     "output_type": "stream",
     "text": [
      "Input:\n",
      "1->2->3->\n",
      "Output\n",
      "1->2->4->"
     ]
    }
   ],
   "source": [
    "class Node:\n",
    "    def __init__(self, data=None , next=None):\n",
    "        self.data = data\n",
    "        self.next = next\n",
    "\n",
    "def add_one_to_linked_list(head):\n",
    "    def reverse_linked_list(node):\n",
    "        prev = None\n",
    "        current = node\n",
    "\n",
    "        while current:\n",
    "            next_node = current.next\n",
    "            current.next = prev\n",
    "            prev = current\n",
    "            current = next_node\n",
    "        return prev\n",
    "    # Reverse the linked list\n",
    "    reversed_head = reverse_linked_list(head)\n",
    "\n",
    "    current = reversed_head\n",
    "    carry = 1 # Start with the carry of 1\n",
    "\n",
    "    while current and carry:\n",
    "        total = current.data + carry\n",
    "        current.data = total % 10\n",
    "        carry = total // 10\n",
    "\n",
    "        if not current.next and carry:\n",
    "            current.next = Node(carry)\n",
    "            break\n",
    "\n",
    "        current = current.next\n",
    "    # Reverse the linked list back to its original form\n",
    "    \n",
    "    result_head = reverse_linked_list(reversed_head)\n",
    "\n",
    "    return result_head\n",
    "\n",
    "def traverse(head):\n",
    "    temp = head\n",
    "    while temp:\n",
    "        print(temp.data , end=\"->\")\n",
    "        temp = temp.next\n",
    "\n",
    "# Example usage:\n",
    "# Create a linked list: 1->2->3(represents the number 123)\n",
    "head = Node(1,Node(2,Node(3)))\n",
    "\n",
    "print(\"Input:\")\n",
    "traverse(head)\n",
    "\n",
    "result = add_one_to_linked_list(head)\n",
    "print(\"\\nOutput\")\n",
    "traverse(result)"
   ]
  },
  {
   "cell_type": "markdown",
   "metadata": {},
   "source": [
    "Problem 14: Given a sorted array and a target value, return the index if the target is found. If not, return the index where it would be inserted.\n",
    "input: nums= [1,3,5,6],target = 5\n",
    "output:2\n"
   ]
  },
  {
   "cell_type": "code",
   "execution_count": 50,
   "metadata": {},
   "outputs": [
    {
     "name": "stdout",
     "output_type": "stream",
     "text": [
      "2\n"
     ]
    }
   ],
   "source": [
    "def search_insert(nums,target):\n",
    "    left = 0\n",
    "    right = len(nums)-1\n",
    "\n",
    "    while left<=right:\n",
    "        mid = left + (right-left)//2\n",
    "\n",
    "        if nums[mid] == target:\n",
    "            return mid\n",
    "        elif nums[mid] < target:\n",
    "            left = mid +1\n",
    "        else:\n",
    "            right = mid-1\n",
    "\n",
    "    return left #If target is not found, left is the index where it would be inserted  \n",
    "\n",
    "# Example usage:\n",
    "nums = [1,3,5,6]\n",
    "target = 5\n",
    "\n",
    "result = search_insert(nums,target)\n",
    "print(result) "
   ]
  },
  {
   "cell_type": "markdown",
   "metadata": {},
   "source": [
    "Problem 15: Find the minimum element in a rotated sorted array.\n",
    "input: [4,5,6,7,0,1,2]\n",
    "output: 0"
   ]
  },
  {
   "cell_type": "code",
   "execution_count": 3,
   "metadata": {},
   "outputs": [
    {
     "name": "stdout",
     "output_type": "stream",
     "text": [
      "0\n"
     ]
    }
   ],
   "source": [
    "def find_min(nums):\n",
    "    left = 0\n",
    "    right = len(nums)-1\n",
    "\n",
    "    while left < right:\n",
    "        mid = left + (right - left)//2\n",
    "\n",
    "        if nums[mid] > nums[right]:\n",
    "            left = mid + 1\n",
    "\n",
    "        else:\n",
    "            right = mid\n",
    "    return nums[left]\n",
    "\n",
    "#Example usage:\n",
    "nums = [4,5,6,7,0,1,2]\n",
    "result = find_min(nums)\n",
    "print(result)            \n"
   ]
  },
  {
   "cell_type": "markdown",
   "metadata": {},
   "source": [
    "Problem 16: Search for a target value in a rotated sorted array.\n",
    "input: nums = [4,5,6,7,0,1,2], target = 0\n",
    "output : 4"
   ]
  },
  {
   "cell_type": "code",
   "execution_count": 8,
   "metadata": {},
   "outputs": [
    {
     "name": "stdout",
     "output_type": "stream",
     "text": [
      "4\n"
     ]
    }
   ],
   "source": [
    "def search_rotated(nums,target):\n",
    "    left = 0\n",
    "    right = len(nums)-1\n",
    "\n",
    "    while left<=right:\n",
    "        mid = left + (right-left)//2\n",
    "\n",
    "        if nums[mid] == target:\n",
    "            return mid\n",
    "        elif nums[left] <= nums[mid]:\n",
    "            # left half is sorted\n",
    "            if nums[left] <= target <= nums[mid]:\n",
    "                right = mid -1\n",
    "            else:\n",
    "                left = mid+1\n",
    "        else:\n",
    "            #Right half is sorted\n",
    "            if nums[mid] <= target <= nums[right]:\n",
    "                left = mid + 1\n",
    "            else:\n",
    "                right = mid-1\n",
    "    return -1 #If target is not found, \n",
    "# Example usage:\n",
    "nums = [4,5,6,7,0,1,2]\n",
    "target = 0\n",
    "\n",
    "result = search_rotated(nums,target)\n",
    "print(result) "
   ]
  },
  {
   "cell_type": "markdown",
   "metadata": {},
   "source": [
    " Problem 17: Find the peak element in an array. A peak element is greater than its neighbors.\n",
    " input: nums = [1,2,3,1]\n",
    " output: 2(index of peak element)"
   ]
  },
  {
   "cell_type": "code",
   "execution_count": 9,
   "metadata": {},
   "outputs": [
    {
     "name": "stdout",
     "output_type": "stream",
     "text": [
      "2\n"
     ]
    }
   ],
   "source": [
    "def find_peak_element(nums):\n",
    "    left = 0\n",
    "    right = len(nums)-1\n",
    "\n",
    "    while left < right:\n",
    "        mid = left + (right - left)//2\n",
    "\n",
    "        if nums[mid] > nums[mid + 1]:\n",
    "            # Peak element is on the left side\n",
    "            right = mid\n",
    "\n",
    "        else:\n",
    "            # Peak element is on the right side\n",
    "            left = mid + 1\n",
    "\n",
    "    return left\n",
    "\n",
    "#Example usage:\n",
    "nums = [1,2,3,1]\n",
    "result = find_peak_element(nums)\n",
    "print(result)            "
   ]
  },
  {
   "cell_type": "markdown",
   "metadata": {},
   "source": [
    "Problem 18: Given a m x n matrix where each row and column is sorted in ascending order, count the number\n",
    "of negative numbers.\n",
    "input: grid = [[4,3,2,-1],[3,2,1,-1],[1,1,-1,-2],[-1,-1,-2,-3]]\n",
    "output: 8"
   ]
  },
  {
   "cell_type": "code",
   "execution_count": 12,
   "metadata": {},
   "outputs": [
    {
     "name": "stdout",
     "output_type": "stream",
     "text": [
      "8\n"
     ]
    }
   ],
   "source": [
    "def count_negatives(grid):\n",
    "    rows = len(grid)\n",
    "    cols = len(grid[0])\n",
    "    count = 0\n",
    "    row = 0\n",
    "    col = cols -1\n",
    "    while row < rows and col >= 0:\n",
    "        if grid[row][col] < 0:\n",
    "            #All elements to the left of the current column are also negitive\n",
    "            count += (rows - row)\n",
    "            col -= 1\n",
    "        else:\n",
    "            # Move to the next row\n",
    "            row += 1\n",
    "    return count\n",
    "\n",
    "#Example usage:\n",
    "grid = [\n",
    "    [4,3,2,-1],\n",
    "    [3,2,1,-1],\n",
    "    [1,1,-1,-2],\n",
    "    [-1,-1,-2,-3]\n",
    "]        \n",
    "\n",
    "result = count_negatives(grid)\n",
    "print(result)"
   ]
  },
  {
   "cell_type": "markdown",
   "metadata": {},
   "source": [
    "Problem 19: Given a 2D matrix sorted in ascending order in each row, and the first integer of each row is\n",
    "greater than the last integer of the previous row, determine if a target value is present in the matrix.\n",
    "Input: matrix = [[1,3,5,7],[10,11,16,20],[23,30,34,60]],target = 3\n",
    "output: True"
   ]
  },
  {
   "cell_type": "code",
   "execution_count": 13,
   "metadata": {},
   "outputs": [
    {
     "name": "stdout",
     "output_type": "stream",
     "text": [
      "True\n"
     ]
    }
   ],
   "source": [
    "def search_matrix(matrix,target):\n",
    "    if not matrix or not matrix[0]:\n",
    "        return False\n",
    "    \n",
    "    rows = len(matrix)\n",
    "    cols = len(matrix[0])\n",
    "    left = 0\n",
    "    right = rows*cols -1\n",
    "    while left <= right:\n",
    "        mid = left + (right -left)//2\n",
    "        mid_value = matrix[mid // cols][mid % cols]\n",
    "\n",
    "        if mid_value == target:\n",
    "            return True\n",
    "        elif mid_value < target:\n",
    "            left = mid + 1\n",
    "        else:\n",
    "            right = mid - 1\n",
    "\n",
    "    return False\n",
    "#Example usage:\n",
    "matrix = [\n",
    "    [1,3,5,7],\n",
    "    [10,11,16,20],\n",
    "    [23,30,34,60]\n",
    "]   \n",
    "target = 3\n",
    "\n",
    "result = search_matrix(matrix,target)\n",
    "print(result)"
   ]
  },
  {
   "cell_type": "markdown",
   "metadata": {},
   "source": [
    "Problem 20: Find Median in Two Sorted Arrays\n",
    "\n",
    "Problem: Given two sorted arrays, find the median of the combined sorted array.\n",
    "Input: nums1 = [1,3], nums2=[2]\n",
    "output: 2.0"
   ]
  },
  {
   "cell_type": "code",
   "execution_count": 14,
   "metadata": {},
   "outputs": [
    {
     "name": "stdout",
     "output_type": "stream",
     "text": [
      "2.0\n"
     ]
    }
   ],
   "source": [
    "def findMedianSortedArrays(nums1,nums2):\n",
    "    merged_array = sorted(nums1 + nums2)\n",
    "    n = len(merged_array)\n",
    "\n",
    "    if n % 2 == 0:\n",
    "        # If the length is even, return the average of the two middle elements\n",
    "        mid_left = n//2-1\n",
    "        mid_right = n//2\n",
    "        return (merged_array[mid_left]+ merged_array[mid_right])/2.0\n",
    "    else:\n",
    "        # If the length is odd, return the middle element\n",
    "        mid = n//2\n",
    "        return float(merged_array[mid])\n",
    "    \n",
    "#Example usage:\n",
    "nums1 = [1,3]\n",
    "nums2 = [2]\n",
    "\n",
    "result = findMedianSortedArrays(nums1,nums2)\n",
    "print(result)    "
   ]
  },
  {
   "cell_type": "markdown",
   "metadata": {},
   "source": [
    "Problem 21: Given a sorted character array and a target letter, find the smallest letter in the array that is\n",
    "greater than the target.\n",
    "Input: letters = ['c','f','j'], target = 'a'\n",
    "Output : 'c'"
   ]
  },
  {
   "cell_type": "code",
   "execution_count": 15,
   "metadata": {},
   "outputs": [
    {
     "name": "stdout",
     "output_type": "stream",
     "text": [
      "c\n"
     ]
    }
   ],
   "source": [
    "def nextGreatestLetter(letters,target):\n",
    "    left = 0\n",
    "    right = len(letters)\n",
    "\n",
    "    while left < right:\n",
    "        mid = left + (right - left)//2\n",
    "        if letters[mid] <= target:\n",
    "            left = mid + 1\n",
    "        else:\n",
    "            right = mid\n",
    "    return letters[left % len(letters)]\n",
    "\n",
    "#Example usage:\n",
    "letters = ['c','f','j']\n",
    "target = 'a'\n",
    "\n",
    "result = nextGreatestLetter(letters,target)\n",
    "print(result)"
   ]
  },
  {
   "cell_type": "markdown",
   "metadata": {},
   "source": [
    "Problem 22: Given an array with n objects colored red, white, or blue, sort them in-place so that objects of\n",
    "the same color are adjacent, with the colors in the order red, white, and blue.\n",
    "Input : nums = [2,0,2,1,1,0]\n",
    "output : [0,0,1,1,2,2]"
   ]
  },
  {
   "cell_type": "code",
   "execution_count": 16,
   "metadata": {},
   "outputs": [
    {
     "name": "stdout",
     "output_type": "stream",
     "text": [
      "[0, 0, 1, 1, 2, 2]\n"
     ]
    }
   ],
   "source": [
    "def sortColors(nums):\n",
    "    low = 0\n",
    "    mid = 0\n",
    "    high = len(nums)-1\n",
    "\n",
    "    while mid <= high:\n",
    "        if nums[mid] == 0:\n",
    "            nums[low], nums[mid]= nums[mid],nums[low]\n",
    "            low += 1\n",
    "            mid += 1\n",
    "\n",
    "        elif nums[mid]== 1:\n",
    "            mid += 1\n",
    "        else:\n",
    "            nums[mid], nums[high] = nums[high], nums[mid] \n",
    "            high -= 1\n",
    "\n",
    "#Example usage:\n",
    "nums = [2,0,2,1,1,0]\n",
    "sortColors(nums)\n",
    "print(nums)            \n"
   ]
  },
  {
   "cell_type": "markdown",
   "metadata": {},
   "source": [
    "Problem 23: Find the kth largest element in an unsorted array.\n",
    "Input: nums = [3,2,1,5,6,4] , k= 2\n",
    "output: 5"
   ]
  },
  {
   "cell_type": "code",
   "execution_count": 20,
   "metadata": {},
   "outputs": [
    {
     "name": "stdout",
     "output_type": "stream",
     "text": [
      "Input array: [3, 2, 1, 5, 6, 4]\n",
      "2th largest element: 5\n"
     ]
    }
   ],
   "source": [
    "import heapq\n",
    "def find_kth_largest(nums,k):\n",
    "    # use a min-heap to store the k largest elements\n",
    "    heap = nums[:k]\n",
    "    heapq.heapify(heap)\n",
    "\n",
    "    # Iterate through the ramaining elements in the array\n",
    "    for num in nums[k:]:\n",
    "        # If the current element is largest than the smallest element in the heap,\n",
    "        # replace the smallest element with the current element \n",
    "        if num > heap[0]:\n",
    "            heapq.heappop(heap)\n",
    "            heapq.heappush(heap ,num)\n",
    "   \n",
    "    #The heap now contains the k largest elements, and the smallest element in \n",
    "    # the heap is the kth largest element in the array        \n",
    "    return heap[0]\n",
    "\n",
    "#Example usage:\n",
    "nums = [3,2,1,5,6,4]\n",
    "k = 2\n",
    "result = find_kth_largest(nums,k)\n",
    "\n",
    "print(f\"Input array: {nums}\")\n",
    "print(f\"{k}th largest element: {result}\")"
   ]
  },
  {
   "cell_type": "markdown",
   "metadata": {},
   "source": [
    "Problem 24: Given an unsorted array, reorder it in-place such that nums[0] <= nums[1] >= nums[2] <=nums[3]\n",
    "Input: nums = [3,5,2,1,6,4]\n",
    "Output: [3,5,1,6,2,4]"
   ]
  },
  {
   "cell_type": "code",
   "execution_count": 21,
   "metadata": {},
   "outputs": [
    {
     "name": "stdout",
     "output_type": "stream",
     "text": [
      "Input array: [3, 5, 2, 1, 6, 4]\n",
      "Output array: [3, 5, 1, 6, 2, 4]\n"
     ]
    }
   ],
   "source": [
    "def wiggle_sort(nums):\n",
    "    # Iterate through the array\n",
    "    for i in range(len(nums)-1):\n",
    "        # If the current index is even and the next element is greater, or\n",
    "        # If the current index is odd and the next element is smaller,swap them\n",
    "        if (i % 2 == 0 and nums[i]>nums[i + 1]) or (i % 2 == 1 and nums[i] < nums[i + 1]):\n",
    "            nums[i], nums[i + 1] = nums[i + 1], nums[i]\n",
    "\n",
    "#Example usage:\n",
    "nums = [3,5,2,1,6,4]\n",
    "\n",
    "print(\"Input array:\",nums)\n",
    "\n",
    "wiggle_sort(nums)\n",
    "\n",
    "print(\"Output array:\",nums)"
   ]
  },
  {
   "cell_type": "markdown",
   "metadata": {},
   "source": [
    "Problem 25: Given an array of integers, calculate the sum of all its elements.\n",
    "Input: [1,2,3,4,5]\n",
    "Output: 15"
   ]
  },
  {
   "cell_type": "code",
   "execution_count": 22,
   "metadata": {},
   "outputs": [
    {
     "name": "stdout",
     "output_type": "stream",
     "text": [
      "Input array: [1, 2, 3, 4, 5]\n",
      "Sum of all elements: 15\n"
     ]
    }
   ],
   "source": [
    "def calculate_sum(nums):\n",
    "    return sum(nums)\n",
    "\n",
    "# example usage:\n",
    "input_array = [1,2,3,4,5]\n",
    "result = calculate_sum(input_array)\n",
    "\n",
    "print(f\"Input array:\",input_array)\n",
    "print(f\"Sum of all elements:\",result)"
   ]
  },
  {
   "cell_type": "markdown",
   "metadata": {},
   "source": [
    "Problem 26: Find the maximum element in an array of integers.\n",
    "Input: [3,7,2,9,4]\n",
    "Output: 9"
   ]
  },
  {
   "cell_type": "code",
   "execution_count": 27,
   "metadata": {},
   "outputs": [
    {
     "name": "stdout",
     "output_type": "stream",
     "text": [
      "Input array: [3, 7, 2, 9, 4]\n",
      "Maximum element: 9\n"
     ]
    }
   ],
   "source": [
    "def find_maximum_element(nums):\n",
    "    return max(nums)\n",
    "\n",
    "#Example usage:\n",
    "input_array = [3,7,2,9,4]\n",
    "result = find_maximum_element(input_array)\n",
    "\n",
    "print(f\"Input array:\",input_array)\n",
    "print(f\"Maximum element:\",result)\n"
   ]
  },
  {
   "cell_type": "markdown",
   "metadata": {},
   "source": [
    "Problem 27: Implement linear search to find the index of a target element in an array.\n",
    "Input: [5,3,8,2,7,4],target = 8\n",
    "Output: 2"
   ]
  },
  {
   "cell_type": "code",
   "execution_count": 28,
   "metadata": {},
   "outputs": [
    {
     "name": "stdout",
     "output_type": "stream",
     "text": [
      "Input array: [5, 3, 8, 2, 7, 4]\n",
      "Index of target element: 2\n"
     ]
    }
   ],
   "source": [
    "def linear_search(nums, target):\n",
    "    for i in range(len(nums)):\n",
    "        if nums[i] == target:\n",
    "            return i\n",
    "    return -1# return -1 if the target element is not found in the array\n",
    "\n",
    "#Example usage:\n",
    "input_array = [5,3,8,2,7,4]\n",
    "target_element = 8\n",
    "result = linear_search(input_array,target_element)\n",
    "\n",
    "print(f\"Input array:\",input_array)\n",
    "print(f\"Index of target element:\",result)\n",
    "    "
   ]
  },
  {
   "cell_type": "markdown",
   "metadata": {},
   "source": [
    "Problem 28 Calculate the factorial of a given number.\n",
    "Input: 5\n",
    "Output: 120(as 5!= 5*4*3*2*1=120)"
   ]
  },
  {
   "cell_type": "code",
   "execution_count": 32,
   "metadata": {},
   "outputs": [
    {
     "name": "stdout",
     "output_type": "stream",
     "text": [
      "Input number: 5\n",
      "factorial: 120\n"
     ]
    }
   ],
   "source": [
    "def calculate_factorial(n):\n",
    "    if n < 0:\n",
    "        return \"factorial is underfined for negitive numbers\"\n",
    "    \n",
    "    result = 1\n",
    "    for i in range(1,n+1):\n",
    "        result *= i\n",
    "    return result\n",
    "\n",
    "#Example usage:\n",
    "input_number = int(input())\n",
    "result = calculate_factorial(input_number)\n",
    "\n",
    "print(f\"Input number:\",input_number)\n",
    "print(f\"factorial:\",result)"
   ]
  },
  {
   "cell_type": "markdown",
   "metadata": {},
   "source": [
    "Problem 29: Check if a given number is a prime number.\n",
    "Input: 7\n",
    "output: True"
   ]
  },
  {
   "cell_type": "code",
   "execution_count": 33,
   "metadata": {},
   "outputs": [
    {
     "name": "stdout",
     "output_type": "stream",
     "text": [
      "Input number: 7\n",
      "Is prime? True\n"
     ]
    }
   ],
   "source": [
    "def is_prime(number):\n",
    "    if number < 2:\n",
    "        return False # Numbers less than 2 are not prime\n",
    "    #Check for divisibility from 2 to the square root of the number\n",
    "    for i in range(2, int(number**0.5)+1):\n",
    "        if number % i ==0:\n",
    "            return False # The number is divisible, so it's not prime\n",
    "    return True #The number is prime\n",
    "\n",
    "#Example usage:\n",
    "input_number = 7\n",
    "result = is_prime(input_number)\n",
    "\n",
    "print(f\"Input number:\",input_number)\n",
    "print(f\"Is prime?\",result)\n"
   ]
  },
  {
   "cell_type": "markdown",
   "metadata": {},
   "source": [
    "Problem 30: Generate the Fibonacci series up to a given number n.\n",
    "Input: 8\n",
    "Output: [0,1,1,2,3,5,8,13]"
   ]
  },
  {
   "cell_type": "code",
   "execution_count": 45,
   "metadata": {},
   "outputs": [
    {
     "name": "stdout",
     "output_type": "stream",
     "text": [
      "Fibonacci series up to 8: [0, 1, 1, 2, 3, 5, 8, 13, 21]\n"
     ]
    }
   ],
   "source": [
    "class Solution:\n",
    "    def generate_fibonacci_series(self,n: int) -> list:\n",
    "        fibonacci_series = []\n",
    "\n",
    "        for i in range(n+1):\n",
    "            fibonacci_series.append(self.fib(i))\n",
    "\n",
    "        return fibonacci_series\n",
    "\n",
    "    def fib(self, n: int) -> int:\n",
    "        if n <= 1:\n",
    "            return n\n",
    "        return self.fib(n-1) + self.fib(n-2)\n",
    "\n",
    "#Example usage:\n",
    "solution_instance = Solution()\n",
    "input_number = 8\n",
    "result = solution_instance.generate_fibonacci_series(input_number)\n",
    "\n",
    "print(f\"Fibonacci series up to {input_number}:\",result)    "
   ]
  },
  {
   "cell_type": "markdown",
   "metadata": {},
   "source": [
    "Problem 31: Calculate the power of a number using recursion.\n",
    "Input: base = 3, exponent = 4\n",
    "Output: 81(as 3^4 = 3*3*3*3=81)"
   ]
  },
  {
   "cell_type": "code",
   "execution_count": 48,
   "metadata": {},
   "outputs": [
    {
     "name": "stdout",
     "output_type": "stream",
     "text": [
      "3^4 = 81\n"
     ]
    }
   ],
   "source": [
    "def power(base, exponent):\n",
    "    if exponent == 0:\n",
    "        return 1\n",
    "    else:\n",
    "        return base * power(base,exponent - 1)\n",
    "    \n",
    "#Example usage:\n",
    "base = 3\n",
    "exponent = 4\n",
    "result = power(base,exponent)\n",
    "\n",
    "print(f\"{base}^{exponent} =\",result)"
   ]
  },
  {
   "cell_type": "markdown",
   "metadata": {},
   "source": [
    "Problem 32: Reverse a given string.\n",
    "input: 'hello'\n",
    "output: 'olleh'"
   ]
  },
  {
   "cell_type": "code",
   "execution_count": 49,
   "metadata": {},
   "outputs": [
    {
     "name": "stdout",
     "output_type": "stream",
     "text": [
      "Input string: hello\n",
      "Reversed string: olleh\n"
     ]
    }
   ],
   "source": [
    "def reverse_string(input_string):\n",
    "    reversed_str = ''\n",
    "    for char in input_string:\n",
    "        reversed_str = char + reversed_str\n",
    "    return reversed_str\n",
    "\n",
    "#Example usage:\n",
    "\n",
    "input_str = 'hello'\n",
    "result = reverse_string(input_str)\n",
    "\n",
    "print(f\"Input string:\",input_str)\n",
    "print(f\"Reversed string:\",result)"
   ]
  },
  {
   "cell_type": "code",
   "execution_count": null,
   "metadata": {},
   "outputs": [],
   "source": []
  }
 ],
 "metadata": {
  "kernelspec": {
   "display_name": "Python 3",
   "language": "python",
   "name": "python3"
  },
  "language_info": {
   "codemirror_mode": {
    "name": "ipython",
    "version": 3
   },
   "file_extension": ".py",
   "mimetype": "text/x-python",
   "name": "python",
   "nbconvert_exporter": "python",
   "pygments_lexer": "ipython3",
   "version": "3.11.6"
  }
 },
 "nbformat": 4,
 "nbformat_minor": 2
}
